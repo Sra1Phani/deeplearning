{
 "cells": [
  {
   "cell_type": "markdown",
   "metadata": {
    "collapsed": true,
    "deletable": true,
    "editable": true
   },
   "source": [
    "# Image Classification\n",
    "In this project, you'll classify images from the [CIFAR-10 dataset](https://www.cs.toronto.edu/~kriz/cifar.html).  The dataset consists of airplanes, dogs, cats, and other objects. You'll preprocess the images, then train a convolutional neural network on all the samples. The images need to be normalized and the labels need to be one-hot encoded.  You'll get to apply what you learned and build a convolutional, max pooling, dropout, and fully connected layers.  At the end, you'll get to see your neural network's predictions on the sample images.\n",
    "## Get the Data\n",
    "Run the following cell to download the [CIFAR-10 dataset for python](https://www.cs.toronto.edu/~kriz/cifar-10-python.tar.gz)."
   ]
  },
  {
   "cell_type": "code",
   "execution_count": 193,
   "metadata": {
    "collapsed": false,
    "deletable": true,
    "editable": true
   },
   "outputs": [
    {
     "name": "stdout",
     "output_type": "stream",
     "text": [
      "All files found!\n"
     ]
    }
   ],
   "source": [
    "\"\"\"\n",
    "DON'T MODIFY ANYTHING IN THIS CELL THAT IS BELOW THIS LINE\n",
    "\"\"\"\n",
    "from urllib.request import urlretrieve\n",
    "from os.path import isfile, isdir\n",
    "from tqdm import tqdm\n",
    "import problem_unittests as tests\n",
    "import tarfile\n",
    "\n",
    "cifar10_dataset_folder_path = 'cifar-10-batches-py'\n",
    "\n",
    "class DLProgress(tqdm):\n",
    "    last_block = 0\n",
    "\n",
    "    def hook(self, block_num=1, block_size=1, total_size=None):\n",
    "        self.total = total_size\n",
    "        self.update((block_num - self.last_block) * block_size)\n",
    "        self.last_block = block_num\n",
    "\n",
    "if not isfile('cifar-10-python.tar.gz'):\n",
    "    with DLProgress(unit='B', unit_scale=True, miniters=1, desc='CIFAR-10 Dataset') as pbar:\n",
    "        urlretrieve(\n",
    "            'https://www.cs.toronto.edu/~kriz/cifar-10-python.tar.gz',\n",
    "            'cifar-10-python.tar.gz',\n",
    "            pbar.hook)\n",
    "\n",
    "if not isdir(cifar10_dataset_folder_path):\n",
    "    with tarfile.open('cifar-10-python.tar.gz') as tar:\n",
    "        tar.extractall()\n",
    "        tar.close()\n",
    "\n",
    "\n",
    "tests.test_folder_path(cifar10_dataset_folder_path)"
   ]
  },
  {
   "cell_type": "markdown",
   "metadata": {
    "deletable": true,
    "editable": true
   },
   "source": [
    "## Explore the Data\n",
    "The dataset is broken into batches to prevent your machine from running out of memory.  The CIFAR-10 dataset consists of 5 batches, named `data_batch_1`, `data_batch_2`, etc.. Each batch contains the labels and images that are one of the following:\n",
    "* airplane\n",
    "* automobile\n",
    "* bird\n",
    "* cat\n",
    "* deer\n",
    "* dog\n",
    "* frog\n",
    "* horse\n",
    "* ship\n",
    "* truck\n",
    "\n",
    "Understanding a dataset is part of making predictions on the data.  Play around with the code cell below by changing the `batch_id` and `sample_id`. The `batch_id` is the id for a batch (1-5). The `sample_id` is the id for a image and label pair in the batch.\n",
    "\n",
    "Ask yourself \"What are all possible labels?\", \"What is the range of values for the image data?\", \"Are the labels in order or random?\".  Answers to questions like these will help you preprocess the data and end up with better predictions."
   ]
  },
  {
   "cell_type": "code",
   "execution_count": 194,
   "metadata": {
    "collapsed": false,
    "deletable": true,
    "editable": true
   },
   "outputs": [
    {
     "name": "stdout",
     "output_type": "stream",
     "text": [
      "\n",
      "Stats of batch 1:\n",
      "Samples: 10000\n",
      "Label Counts: {0: 1005, 1: 974, 2: 1032, 3: 1016, 4: 999, 5: 937, 6: 1030, 7: 1001, 8: 1025, 9: 981}\n",
      "First 20 Labels: [6, 9, 9, 4, 1, 1, 2, 7, 8, 3, 4, 7, 7, 2, 9, 9, 9, 3, 2, 6]\n",
      "\n",
      "Example of Image 5:\n",
      "Image - Min Value: 0 Max Value: 252\n",
      "Image - Shape: (32, 32, 3)\n",
      "Label - Label Id: 1 Name: automobile\n"
     ]
    },
    {
     "data": {
      "image/png": "[encoded data removed]",
      "text/plain": [
       "<matplotlib.figure.Figure at 0x7f455bbf8320>"
      ]
     },
     "metadata": {
      "image/png": {
       "height": 250,
       "width": 253
      }
     },
     "output_type": "display_data"
    }
   ],
   "source": [
    "%matplotlib inline\n",
    "%config InlineBackend.figure_format = 'retina'\n",
    "\n",
    "import helper\n",
    "import numpy as np\n",
    "\n",
    "# Explore the dataset\n",
    "batch_id = 1\n",
    "sample_id = 5\n",
    "helper.display_stats(cifar10_dataset_folder_path, batch_id, sample_id)"
   ]
  },
  {
   "cell_type": "markdown",
   "metadata": {
    "deletable": true,
    "editable": true
   },
   "source": [
    "## Implement Preprocess Functions\n",
    "### Normalize\n",
    "In the cell below, implement the `normalize` function to take in image data, `x`, and return it as a normalized Numpy array. The values should be in the range of 0 to 1, inclusive.  The return object should be the same shape as `x`."
   ]
  },
  {
   "cell_type": "code",
   "execution_count": 195,
   "metadata": {
    "collapsed": false,
    "deletable": true,
    "editable": true
   },
   "outputs": [
    {
     "name": "stdout",
     "output_type": "stream",
     "text": [
      "Tests Passed\n"
     ]
    }
   ],
   "source": [
    "def normalize(x):\n",
    "    \"\"\"\n",
    "    Normalize a list of sample image data in the range of 0 to 1\n",
    "    : x: List of image data.  The image shape is (32, 32, 3)\n",
    "    : return: Numpy array of normalize data\n",
    "    \"\"\"\n",
    "    # TODO: Implement Function\n",
    "    return x/255\n",
    "\n",
    "\n",
    "\"\"\"\n",
    "DON'T MODIFY ANYTHING IN THIS CELL THAT IS BELOW THIS LINE\n",
    "\"\"\"\n",
    "tests.test_normalize(normalize)"
   ]
  },
  {
   "cell_type": "markdown",
   "metadata": {
    "deletable": true,
    "editable": true
   },
   "source": [
    "### One-hot encode\n",
    "Just like the previous code cell, you'll be implementing a function for preprocessing.  This time, you'll implement the `one_hot_encode` function. The input, `x`, are a list of labels.  Implement the function to return the list of labels as One-Hot encoded Numpy array.  The possible values for labels are 0 to 9. The one-hot encoding function should return the same encoding for each value between each call to `one_hot_encode`.  Make sure to save the map of encodings outside the function.\n",
    "\n",
    "Hint: Don't reinvent the wheel."
   ]
  },
  {
   "cell_type": "code",
   "execution_count": 196,
   "metadata": {
    "collapsed": false,
    "deletable": true,
    "editable": true
   },
   "outputs": [
    {
     "name": "stdout",
     "output_type": "stream",
     "text": [
      "Tests Passed\n"
     ]
    }
   ],
   "source": [
    "def one_hot_encode(x):\n",
    "    \"\"\"\n",
    "    One hot encode a list of sample labels. Return a one-hot encoded vector for each label.\n",
    "    : x: List of sample Labels\n",
    "    : return: Numpy array of one-hot encoded labels\n",
    "    \"\"\"\n",
    "    # TODO: Implement Function\n",
    "    ret_arr = list()\n",
    "    for label in x:\n",
    "        ohe = list((map(int,np.zeros(10))))\n",
    "        ohe[label] = 1\n",
    "        ret_arr.append(ohe)\n",
    "    return np.array(ret_arr)\n",
    "\n",
    "\"\"\"\n",
    "DON'T MODIFY ANYTHING IN THIS CELL THAT IS BELOW THIS LINE\n",
    "\"\"\"\n",
    "tests.test_one_hot_encode(one_hot_encode)"
   ]
  },
  {
   "cell_type": "markdown",
   "metadata": {
    "deletable": true,
    "editable": true
   },
   "source": [
    "### Randomize Data\n",
    "As you saw from exploring the data above, the order of the samples are randomized.  It doesn't hurt to randomize it again, but you don't need to for this dataset."
   ]
  },
  {
   "cell_type": "markdown",
   "metadata": {
    "deletable": true,
    "editable": true
   },
   "source": [
    "## Preprocess all the data and save it\n",
    "Running the code cell below will preprocess all the CIFAR-10 data and save it to file. The code below also uses 10% of the training data for validation."
   ]
  },
  {
   "cell_type": "code",
   "execution_count": 197,
   "metadata": {
    "collapsed": false,
    "deletable": true,
    "editable": true
   },
   "outputs": [],
   "source": [
    "\"\"\"\n",
    "DON'T MODIFY ANYTHING IN THIS CELL\n",
    "\"\"\"\n",
    "# Preprocess Training, Validation, and Testing Data\n",
    "helper.preprocess_and_save_data(cifar10_dataset_folder_path, normalize, one_hot_encode)"
   ]
  },
  {
   "cell_type": "markdown",
   "metadata": {
    "deletable": true,
    "editable": true
   },
   "source": [
    "# Check Point\n",
    "This is your first checkpoint.  If you ever decide to come back to this notebook or have to restart the notebook, you can start from here.  The preprocessed data has been saved to disk."
   ]
  },
  {
   "cell_type": "code",
   "execution_count": 1,
   "metadata": {
    "collapsed": true,
    "deletable": true,
    "editable": true
   },
   "outputs": [],
   "source": [
    "\"\"\"\n",
    "DON'T MODIFY ANYTHING IN THIS CELL\n",
    "\"\"\"\n",
    "import pickle\n",
    "import problem_unittests as tests\n",
    "import helper\n",
    "\n",
    "# Load the Preprocessed Validation data\n",
    "valid_features, valid_labels = pickle.load(open('preprocess_validation.p', mode='rb'))"
   ]
  },
  {
   "cell_type": "markdown",
   "metadata": {
    "deletable": true,
    "editable": true
   },
   "source": [
    "## Build the network\n",
    "For the neural network, you'll build each layer into a function.  Most of the code you've seen has been outside of functions. To test your code more thoroughly, we require that you put each layer in a function.  This allows us to give you better feedback and test for simple mistakes using our unittests before you submit your project.\n",
    "\n",
    ">**Note:** If you're finding it hard to dedicate enough time for this course each week, we've provided a small shortcut to this part of the project. In the next couple of problems, you'll have the option to use classes from the [TensorFlow Layers](https://www.tensorflow.org/api_docs/python/tf/layers) or [TensorFlow Layers (contrib)](https://www.tensorflow.org/api_guides/python/contrib.layers) packages to build each layer, except the layers you build in the \"Convolutional and Max Pooling Layer\" section.  TF Layers is similar to Keras's and TFLearn's abstraction to layers, so it's easy to pickup.\n",
    "\n",
    ">However, if you would like to get the most out of this course, try to solve all the problems _without_ using anything from the TF Layers packages. You **can** still use classes from other packages that happen to have the same name as ones you find in TF Layers! For example, instead of using the TF Layers version of the `conv2d` class, [tf.layers.conv2d](https://www.tensorflow.org/api_docs/python/tf/layers/conv2d), you would want to use the TF Neural Network version of `conv2d`, [tf.nn.conv2d](https://www.tensorflow.org/api_docs/python/tf/nn/conv2d). \n",
    "\n",
    "Let's begin!\n",
    "\n",
    "### Input\n",
    "The neural network needs to read the image data, one-hot encoded labels, and dropout keep probability. Implement the following functions\n",
    "* Implement `neural_net_image_input`\n",
    " * Return a [TF Placeholder](https://www.tensorflow.org/api_docs/python/tf/placeholder)\n",
    " * Set the shape using `image_shape` with batch size set to `None`.\n",
    " * Name the TensorFlow placeholder \"x\" using the TensorFlow `name` parameter in the [TF Placeholder](https://www.tensorflow.org/api_docs/python/tf/placeholder).\n",
    "* Implement `neural_net_label_input`\n",
    " * Return a [TF Placeholder](https://www.tensorflow.org/api_docs/python/tf/placeholder)\n",
    " * Set the shape using `n_classes` with batch size set to `None`.\n",
    " * Name the TensorFlow placeholder \"y\" using the TensorFlow `name` parameter in the [TF Placeholder](https://www.tensorflow.org/api_docs/python/tf/placeholder).\n",
    "* Implement `neural_net_keep_prob_input`\n",
    " * Return a [TF Placeholder](https://www.tensorflow.org/api_docs/python/tf/placeholder) for dropout keep probability.\n",
    " * Name the TensorFlow placeholder \"keep_prob\" using the TensorFlow `name` parameter in the [TF Placeholder](https://www.tensorflow.org/api_docs/python/tf/placeholder).\n",
    "\n",
    "These names will be used at the end of the project to load your saved model.\n",
    "\n",
    "Note: `None` for shapes in TensorFlow allow for a dynamic size."
   ]
  },
  {
   "cell_type": "code",
   "execution_count": 2,
   "metadata": {
    "collapsed": false,
    "deletable": true,
    "editable": true
   },
   "outputs": [
    {
     "name": "stdout",
     "output_type": "stream",
     "text": [
      "Image Input Tests Passed.\n",
      "Label Input Tests Passed.\n",
      "Keep Prob Tests Passed.\n"
     ]
    }
   ],
   "source": [
    "import tensorflow as tf\n",
    "\n",
    "def neural_net_image_input(image_shape):\n",
    "    \"\"\"\n",
    "    Return a Tensor for a batch of image input\n",
    "    : image_shape: Shape of the images\n",
    "    : return: Tensor for image input.\n",
    "    \"\"\"\n",
    "    # TODO: Implement Function\n",
    "    batch_size = None\n",
    "    return tf.placeholder(tf.float32,[batch_size,*image_shape],name='x')\n",
    "\n",
    "\n",
    "def neural_net_label_input(n_classes):\n",
    "    \"\"\"\n",
    "    Return a Tensor for a batch of label input\n",
    "    : n_classes: Number of classes\n",
    "    : return: Tensor for label input.\n",
    "    \"\"\"\n",
    "    # TODO: Implement Function\n",
    "    batch_size = None\n",
    "    return tf.placeholder(tf.float32,[batch_size,n_classes],name='y')\n",
    "\n",
    "\n",
    "def neural_net_keep_prob_input():\n",
    "    \"\"\"\n",
    "    Return a Tensor for keep probability\n",
    "    : return: Tensor for keep probability.\n",
    "    \"\"\"\n",
    "    # TODO: Implement Function\n",
    "    return tf.placeholder(tf.float32,name='keep_prob')\n",
    "\n",
    "\n",
    "\"\"\"\n",
    "DON'T MODIFY ANYTHING IN THIS CELL THAT IS BELOW THIS LINE\n",
    "\"\"\"\n",
    "tf.reset_default_graph()\n",
    "tests.test_nn_image_inputs(neural_net_image_input)\n",
    "tests.test_nn_label_inputs(neural_net_label_input)\n",
    "tests.test_nn_keep_prob_inputs(neural_net_keep_prob_input)"
   ]
  },
  {
   "cell_type": "markdown",
   "metadata": {
    "deletable": true,
    "editable": true
   },
   "source": [
    "### Convolution and Max Pooling Layer\n",
    "Convolution layers have a lot of success with images. For this code cell, you should implement the function `conv2d_maxpool` to apply convolution then max pooling:\n",
    "* Create the weight and bias using `conv_ksize`, `conv_num_outputs` and the shape of `x_tensor`.\n",
    "* Apply a convolution to `x_tensor` using weight and `conv_strides`.\n",
    " * We recommend you use same padding, but you're welcome to use any padding.\n",
    "* Add bias\n",
    "* Add a nonlinear activation to the convolution.\n",
    "* Apply Max Pooling using `pool_ksize` and `pool_strides`.\n",
    " * We recommend you use same padding, but you're welcome to use any padding.\n",
    "\n",
    "**Note:** You **can't** use [TensorFlow Layers](https://www.tensorflow.org/api_docs/python/tf/layers) or [TensorFlow Layers (contrib)](https://www.tensorflow.org/api_guides/python/contrib.layers) for **this** layer, but you can still use TensorFlow's [Neural Network](https://www.tensorflow.org/api_docs/python/tf/nn) package. You may still use the shortcut option for all the **other** layers."
   ]
  },
  {
   "cell_type": "code",
   "execution_count": 3,
   "metadata": {
    "collapsed": false,
    "deletable": true,
    "editable": true
   },
   "outputs": [
    {
     "name": "stdout",
     "output_type": "stream",
     "text": [
      "Tests Passed\n"
     ]
    }
   ],
   "source": [
    "def conv2d_maxpool(x_tensor, conv_num_outputs, conv_ksize, conv_strides, pool_ksize, pool_strides):\n",
    "    \"\"\"\n",
    "    Apply convolution then max pooling to x_tensor\n",
    "    :param x_tensor: TensorFlow Tensor\n",
    "    :param conv_num_outputs: Number of outputs for the convolutional layer\n",
    "    :param conv_ksize: kernal size 2-D Tuple for the convolutional layer\n",
    "    :param conv_strides: Stride 2-D Tuple for convolution\n",
    "    :param pool_ksize: kernal size 2-D Tuple for pool\n",
    "    :param pool_strides: Stride 2-D Tuple for pool\n",
    "    : return: A tensor that represents convolution and max pooling of x_tensor\n",
    "    \"\"\"\n",
    "    # TODO: Implement Function\n",
    "    m_height = conv_ksize[0]\n",
    "    m_width = conv_ksize[1]\n",
    "    inp_depth = x_tensor.get_shape().as_list()[-1]\n",
    "\n",
    "    weights = tf.Variable(tf.truncated_normal([m_height,m_width,inp_depth,conv_num_outputs],0,0.1))\n",
    "    biaszes = tf.Variable(tf.zeros(conv_num_outputs))\n",
    "    \n",
    "    stride_height = conv_strides[0]\n",
    "    stride_width = conv_strides[1]\n",
    "    padding = \"SAME\"\n",
    "    \n",
    "    convol = tf.nn.conv2d(x_tensor,weights,[1,stride_height,stride_width,1],padding)\n",
    "    convol = tf.nn.bias_add(convol,biaszes)\n",
    "    convol = tf.contrib.layers.batch_norm(convol,center=True,scale=True)\n",
    "    \n",
    "    mp_height = pool_ksize[0]\n",
    "    mp_width = pool_ksize[1]\n",
    "    \n",
    "    mps_height = pool_strides[0]\n",
    "    mps_width = pool_strides[1]\n",
    "    \n",
    "    convol = tf.nn.relu(convol)\n",
    "    convol = tf.nn.max_pool(convol,ksize=[1,mp_height,mp_width,1],strides=[1,mps_height,mps_width,1],padding=\"SAME\")\n",
    "    \n",
    "    return convol \n",
    "\n",
    "\n",
    "\"\"\"\n",
    "DON'T MODIFY ANYTHING IN THIS CELL THAT IS BELOW THIS LINE\n",
    "\"\"\"\n",
    "tests.test_con_pool(conv2d_maxpool)"
   ]
  },
  {
   "cell_type": "markdown",
   "metadata": {
    "deletable": true,
    "editable": true
   },
   "source": [
    "### Flatten Layer\n",
    "Implement the `flatten` function to change the dimension of `x_tensor` from a 4-D tensor to a 2-D tensor.  The output should be the shape (*Batch Size*, *Flattened Image Size*). Shortcut option: you can use classes from the [TensorFlow Layers](https://www.tensorflow.org/api_docs/python/tf/layers) or [TensorFlow Layers (contrib)](https://www.tensorflow.org/api_guides/python/contrib.layers) packages for this layer. For more of a challenge, only use other TensorFlow packages."
   ]
  },
  {
   "cell_type": "code",
   "execution_count": 4,
   "metadata": {
    "collapsed": false,
    "deletable": true,
    "editable": true
   },
   "outputs": [
    {
     "name": "stdout",
     "output_type": "stream",
     "text": [
      "Tests Passed\n"
     ]
    }
   ],
   "source": [
    "def flatten(x_tensor):\n",
    "    \"\"\"\n",
    "    Flatten x_tensor to (Batch Size, Flattened Image Size)\n",
    "    : x_tensor: A tensor of size (Batch Size, ...), where ... are the image dimensions.\n",
    "    : return: A tensor of size (Batch Size, Flattened Image Size).\n",
    "    \"\"\"\n",
    "    # TODO: Implement Function\n",
    "    batch = x_tensor.get_shape().as_list()[0]\n",
    "    height = x_tensor.get_shape().as_list()[1]\n",
    "    width = x_tensor.get_shape().as_list()[2]\n",
    "    channel = x_tensor.get_shape().as_list()[3]\n",
    "    \n",
    "    return tf.reshape(x_tensor, [-1,height*width*channel])\n",
    "\n",
    "\n",
    "\"\"\"\n",
    "DON'T MODIFY ANYTHING IN THIS CELL THAT IS BELOW THIS LINE\n",
    "\"\"\"\n",
    "tests.test_flatten(flatten)"
   ]
  },
  {
   "cell_type": "markdown",
   "metadata": {
    "deletable": true,
    "editable": true
   },
   "source": [
    "### Fully-Connected Layer\n",
    "Implement the `fully_conn` function to apply a fully connected layer to `x_tensor` with the shape (*Batch Size*, *num_outputs*). Shortcut option: you can use classes from the [TensorFlow Layers](https://www.tensorflow.org/api_docs/python/tf/layers) or [TensorFlow Layers (contrib)](https://www.tensorflow.org/api_guides/python/contrib.layers) packages for this layer. For more of a challenge, only use other TensorFlow packages."
   ]
  },
  {
   "cell_type": "code",
   "execution_count": 5,
   "metadata": {
    "collapsed": false,
    "deletable": true,
    "editable": true
   },
   "outputs": [
    {
     "name": "stdout",
     "output_type": "stream",
     "text": [
      "Tests Passed\n"
     ]
    }
   ],
   "source": [
    "def fully_conn(x_tensor, num_outputs):\n",
    "    \"\"\"\n",
    "    Apply a fully connected layer to x_tensor using weight and bias\n",
    "    : x_tensor: A 2-D tensor where the first dimension is batch size.\n",
    "    : num_outputs: The number of output that the new tensor should be.\n",
    "    : return: A 2-D tensor where the second dimension is num_outputs.\n",
    "    \"\"\"\n",
    "    # TODO: Implement Function\n",
    "    depth = x_tensor.get_shape().as_list()[-1]\n",
    "    \n",
    "    weights = tf.Variable(tf.truncated_normal( [depth, num_outputs],0,0.1 ))\n",
    "    biases = tf.Variable(tf.zeros(num_outputs))\n",
    "    \n",
    "    fully_connected = tf.add(tf.matmul(x_tensor, weights), biases)\n",
    "    fully_connected = tf.nn.relu(fully_connected)\n",
    "    \n",
    "    return fully_connected\n",
    "\n",
    "\"\"\"\n",
    "DON'T MODIFY ANYTHING IN THIS CELL THAT IS BELOW THIS LINE\n",
    "\"\"\"\n",
    "tests.test_fully_conn(fully_conn)"
   ]
  },
  {
   "cell_type": "markdown",
   "metadata": {
    "deletable": true,
    "editable": true
   },
   "source": [
    "### Output Layer\n",
    "Implement the `output` function to apply a fully connected layer to `x_tensor` with the shape (*Batch Size*, *num_outputs*). Shortcut option: you can use classes from the [TensorFlow Layers](https://www.tensorflow.org/api_docs/python/tf/layers) or [TensorFlow Layers (contrib)](https://www.tensorflow.org/api_guides/python/contrib.layers) packages for this layer. For more of a challenge, only use other TensorFlow packages.\n",
    "\n",
    "**Note:** Activation, softmax, or cross entropy should **not** be applied to this."
   ]
  },
  {
   "cell_type": "code",
   "execution_count": 6,
   "metadata": {
    "collapsed": false,
    "deletable": true,
    "editable": true
   },
   "outputs": [
    {
     "name": "stdout",
     "output_type": "stream",
     "text": [
      "Tests Passed\n"
     ]
    }
   ],
   "source": [
    "def output(x_tensor, num_outputs):\n",
    "    \"\"\"\n",
    "    Apply a output layer to x_tensor using weight and bias\n",
    "    : x_tensor: A 2-D tensor where the first dimension is batch size.\n",
    "    : num_outputs: The number of output that the new tensor should be.\n",
    "    : return: A 2-D tensor where the second dimension is num_outputs.\n",
    "    \"\"\"\n",
    "    # TODO: Implement Function\n",
    "    depth = x_tensor.get_shape().as_list()[-1]\n",
    "    \n",
    "    weights = tf.Variable(tf.truncated_normal( [depth, num_outputs],0,0.1 ))\n",
    "    biases = tf.Variable(tf.zeros(num_outputs))\n",
    "    \n",
    "    op = tf.add(tf.matmul(x_tensor, weights), biases)\n",
    "    return op\n",
    "\n",
    "\n",
    "\"\"\"\n",
    "DON'T MODIFY ANYTHING IN THIS CELL THAT IS BELOW THIS LINE\n",
    "\"\"\"\n",
    "tests.test_output(output)"
   ]
  },
  {
   "cell_type": "markdown",
   "metadata": {
    "deletable": true,
    "editable": true
   },
   "source": [
    "### Create Convolutional Model\n",
    "Implement the function `conv_net` to create a convolutional neural network model. The function takes in a batch of images, `x`, and outputs logits.  Use the layers you created above to create this model:\n",
    "\n",
    "* Apply 1, 2, or 3 Convolution and Max Pool layers\n",
    "* Apply a Flatten Layer\n",
    "* Apply 1, 2, or 3 Fully Connected Layers\n",
    "* Apply an Output Layer\n",
    "* Return the output\n",
    "* Apply [TensorFlow's Dropout](https://www.tensorflow.org/api_docs/python/tf/nn/dropout) to one or more layers in the model using `keep_prob`. "
   ]
  },
  {
   "cell_type": "code",
   "execution_count": 17,
   "metadata": {
    "collapsed": false,
    "deletable": true,
    "editable": true
   },
   "outputs": [
    {
     "name": "stdout",
     "output_type": "stream",
     "text": [
      "Neural Network Built!\n"
     ]
    }
   ],
   "source": [
    "def conv_net(x, keep_prob):\n",
    "    \"\"\"\n",
    "    Create a convolutional neural network model\n",
    "    : x: Placeholder tensor that holds image data.\n",
    "    : keep_prob: Placeholder tensor that hold dropout keep probability.\n",
    "    : return: Tensor that represents logits\n",
    "    \"\"\"\n",
    "    # TODO: Apply 1, 2, or 3 Convolution and Max Pool layers\n",
    "    #    Play around with different number of outputs, kernel size and stride\n",
    "    # Function Definition from Above:\n",
    "    #    conv2d_maxpool(x_tensor, conv_num_outputs, conv_ksize, conv_strides, pool_ksize, pool_strides)\n",
    "    conlayer = conv2d_maxpool(x, conv_num_outputs=40, conv_ksize=(4,4), conv_strides=(2,2), pool_ksize=(4,4), pool_strides=(2,2))\n",
    "    conlayer = conv2d_maxpool(conlayer, conv_num_outputs=20, conv_ksize=(2,2), conv_strides=(1,1), pool_ksize=(2,2), pool_strides=(1,1))\n",
    "    conlayer = conv2d_maxpool(conlayer, conv_num_outputs=20, conv_ksize=(1,1), conv_strides=(1,1), pool_ksize=(1,1), pool_strides=(1,1))\n",
    "\n",
    "    conlayer = tf.nn.dropout(conlayer,keep_prob)\n",
    "\n",
    "    # TODO: Apply a Flatten Layer\n",
    "    # Function Definition from Above:\n",
    "    #   flatten(x_tensor)\n",
    "    conlayer = flatten(conlayer)\n",
    "    conlayer = tf.nn.dropout(conlayer,keep_prob)\n",
    "\n",
    "    # TODO: Apply 1, 2, or 3 Fully Connected Layers\n",
    "    #    Play around with different number of outputs\n",
    "    # Function Definition from Above:\n",
    "    #   fully_conn(x_tensor, num_outputs)\n",
    "    conlayer = fully_conn(conlayer, num_outputs=20)\n",
    "    \n",
    "    # TODO: Apply an Output Layer\n",
    "    #    Set this to the number of classes\n",
    "    # Function Definition from Above:\n",
    "    #   output(x_tensor, num_outputs)\n",
    "    conlayer = output(conlayer, num_outputs=10)\n",
    "    \n",
    "    # TODO: return output\n",
    "    return conlayer\n",
    "\n",
    "\n",
    "\"\"\"\n",
    "DON'T MODIFY ANYTHING IN THIS CELL THAT IS BELOW THIS LINE\n",
    "\"\"\"\n",
    "\n",
    "##############################\n",
    "## Build the Neural Network ##\n",
    "##############################\n",
    "\n",
    "# Remove previous weights, bias, inputs, etc..\n",
    "tf.reset_default_graph()\n",
    "\n",
    "# Inputs\n",
    "x = neural_net_image_input((32, 32, 3))\n",
    "y = neural_net_label_input(10)\n",
    "keep_prob = neural_net_keep_prob_input()\n",
    "\n",
    "# Model\n",
    "logits = conv_net(x, keep_prob)\n",
    "\n",
    "# Name logits Tensor, so that is can be loaded from disk after training\n",
    "logits = tf.identity(logits, name='logits')\n",
    "\n",
    "# Loss and Optimizer\n",
    "cost = tf.reduce_mean(tf.nn.softmax_cross_entropy_with_logits(logits=logits, labels=y))\n",
    "optimizer = tf.train.AdamOptimizer().minimize(cost)\n",
    "\n",
    "# Accuracy\n",
    "correct_pred = tf.equal(tf.argmax(logits, 1), tf.argmax(y, 1))\n",
    "accuracy = tf.reduce_mean(tf.cast(correct_pred, tf.float32), name='accuracy')\n",
    "\n",
    "tests.test_conv_net(conv_net)"
   ]
  },
  {
   "cell_type": "markdown",
   "metadata": {
    "deletable": true,
    "editable": true
   },
   "source": [
    "## Train the Neural Network\n",
    "### Single Optimization\n",
    "Implement the function `train_neural_network` to do a single optimization.  The optimization should use `optimizer` to optimize in `session` with a `feed_dict` of the following:\n",
    "* `x` for image input\n",
    "* `y` for labels\n",
    "* `keep_prob` for keep probability for dropout\n",
    "\n",
    "This function will be called for each batch, so `tf.global_variables_initializer()` has already been called.\n",
    "\n",
    "Note: Nothing needs to be returned. This function is only optimizing the neural network."
   ]
  },
  {
   "cell_type": "code",
   "execution_count": 18,
   "metadata": {
    "collapsed": false,
    "deletable": true,
    "editable": true
   },
   "outputs": [
    {
     "name": "stdout",
     "output_type": "stream",
     "text": [
      "Tests Passed\n"
     ]
    }
   ],
   "source": [
    "def train_neural_network(session, optimizer, keep_probability, feature_batch, label_batch):\n",
    "    \"\"\"\n",
    "    Optimize the session on a batch of images and labels\n",
    "    : session: Current TensorFlow session\n",
    "    : optimizer: TensorFlow optimizer function\n",
    "    : keep_probability: keep probability\n",
    "    : feature_batch: Batch of Numpy image data\n",
    "    : label_batch: Batch of Numpy label data\n",
    "    \"\"\"\n",
    "    # TODO: Implement Function\n",
    "    session.run(optimizer,feed_dict={x:feature_batch, y:label_batch, keep_prob:keep_probability})\n",
    "\n",
    "\n",
    "\"\"\"\n",
    "DON'T MODIFY ANYTHING IN THIS CELL THAT IS BELOW THIS LINE\n",
    "\"\"\"\n",
    "tests.test_train_nn(train_neural_network)"
   ]
  },
  {
   "cell_type": "markdown",
   "metadata": {
    "deletable": true,
    "editable": true
   },
   "source": [
    "### Show Stats\n",
    "Implement the function `print_stats` to print loss and validation accuracy.  Use the global variables `valid_features` and `valid_labels` to calculate validation accuracy.  Use a keep probability of `1.0` to calculate the loss and validation accuracy."
   ]
  },
  {
   "cell_type": "code",
   "execution_count": 19,
   "metadata": {
    "collapsed": false,
    "deletable": true,
    "editable": true
   },
   "outputs": [],
   "source": [
    "def print_stats(session, feature_batch, label_batch, cost, accuracy):\n",
    "    \"\"\"\n",
    "    Print information about loss and validation accuracy\n",
    "    : session: Current TensorFlow session\n",
    "    : feature_batch: Batch of Numpy image data\n",
    "    : label_batch: Batch of Numpy label data\n",
    "    : cost: TensorFlow cost function\n",
    "    : accuracy: TensorFlow accuracy function\n",
    "    \"\"\"\n",
    "    # TODO: Implement Function\n",
    "    loss = session.run(cost, feed_dict={x:feature_batch, y:label_batch, keep_prob:1.0})\n",
    "    val_accuracy = session.run(accuracy, feed_dict = {x: valid_features,y: valid_labels, keep_prob:1.0}) \n",
    "    print(\"Loss:{}\\tAccuracy:{}\".format(loss,val_accuracy))"
   ]
  },
  {
   "cell_type": "markdown",
   "metadata": {
    "deletable": true,
    "editable": true
   },
   "source": [
    "### Hyperparameters\n",
    "Tune the following parameters:\n",
    "* Set `epochs` to the number of iterations until the network stops learning or start overfitting\n",
    "* Set `batch_size` to the highest number that your machine has memory for.  Most people set them to common sizes of memory:\n",
    " * 64\n",
    " * 128\n",
    " * 256\n",
    " * ...\n",
    "* Set `keep_probability` to the probability of keeping a node using dropout"
   ]
  },
  {
   "cell_type": "code",
   "execution_count": 20,
   "metadata": {
    "collapsed": true,
    "deletable": true,
    "editable": true
   },
   "outputs": [],
   "source": [
    "# TODO: Tune Parameters\n",
    "epochs = 35\n",
    "batch_size = 256\n",
    "keep_probability = 0.5"
   ]
  },
  {
   "cell_type": "markdown",
   "metadata": {
    "deletable": true,
    "editable": true
   },
   "source": [
    "### Train on a Single CIFAR-10 Batch\n",
    "Instead of training the neural network on all the CIFAR-10 batches of data, let's use a single batch. This should save time while you iterate on the model to get a better accuracy.  Once the final validation accuracy is 50% or greater, run the model on all the data in the next section."
   ]
  },
  {
   "cell_type": "code",
   "execution_count": 21,
   "metadata": {
    "collapsed": false,
    "deletable": true,
    "editable": true
   },
   "outputs": [
    {
     "name": "stdout",
     "output_type": "stream",
     "text": [
      "Checking the Training on a Single Batch...\n",
      "Epoch  1, CIFAR-10 Batch 1:  Loss:2.214449405670166\tAccuracy:0.1860000044107437\n",
      "Epoch  2, CIFAR-10 Batch 1:  Loss:1.9578776359558105\tAccuracy:0.251399964094162\n",
      "Epoch  3, CIFAR-10 Batch 1:  Loss:1.7586485147476196\tAccuracy:0.3271999955177307\n",
      "Epoch  4, CIFAR-10 Batch 1:  Loss:1.6637542247772217\tAccuracy:0.35979998111724854\n",
      "Epoch  5, CIFAR-10 Batch 1:  Loss:1.5430119037628174\tAccuracy:0.38940000534057617\n",
      "Epoch  6, CIFAR-10 Batch 1:  Loss:1.4665974378585815\tAccuracy:0.415399968624115\n",
      "Epoch  7, CIFAR-10 Batch 1:  Loss:1.4013113975524902\tAccuracy:0.4318000078201294\n",
      "Epoch  8, CIFAR-10 Batch 1:  Loss:1.3219853639602661\tAccuracy:0.4495999813079834\n",
      "Epoch  9, CIFAR-10 Batch 1:  Loss:1.2452311515808105\tAccuracy:0.46539998054504395\n",
      "Epoch 10, CIFAR-10 Batch 1:  Loss:1.2044134140014648\tAccuracy:0.48259997367858887\n",
      "Epoch 11, CIFAR-10 Batch 1:  Loss:1.1437079906463623\tAccuracy:0.4869999885559082\n",
      "Epoch 12, CIFAR-10 Batch 1:  Loss:1.1285046339035034\tAccuracy:0.4997999668121338\n",
      "Epoch 13, CIFAR-10 Batch 1:  Loss:1.081868052482605\tAccuracy:0.5117999315261841\n",
      "Epoch 14, CIFAR-10 Batch 1:  Loss:1.0617272853851318\tAccuracy:0.5151998996734619\n",
      "Epoch 15, CIFAR-10 Batch 1:  Loss:1.0101397037506104\tAccuracy:0.5171999335289001\n",
      "Epoch 16, CIFAR-10 Batch 1:  Loss:1.013180136680603\tAccuracy:0.5333999395370483\n",
      "Epoch 17, CIFAR-10 Batch 1:  Loss:0.980622410774231\tAccuracy:0.5269999504089355\n",
      "Epoch 18, CIFAR-10 Batch 1:  Loss:0.9091400504112244\tAccuracy:0.5371999144554138\n",
      "Epoch 19, CIFAR-10 Batch 1:  Loss:0.9267266988754272\tAccuracy:0.5425999164581299\n",
      "Epoch 20, CIFAR-10 Batch 1:  Loss:0.87746661901474\tAccuracy:0.5525999069213867\n",
      "Epoch 21, CIFAR-10 Batch 1:  Loss:0.8549497127532959\tAccuracy:0.5543999075889587\n",
      "Epoch 22, CIFAR-10 Batch 1:  Loss:0.8200081586837769\tAccuracy:0.5575999617576599\n",
      "Epoch 23, CIFAR-10 Batch 1:  Loss:0.782766580581665\tAccuracy:0.5699999332427979\n",
      "Epoch 24, CIFAR-10 Batch 1:  Loss:0.7890394926071167\tAccuracy:0.5609999299049377\n",
      "Epoch 25, CIFAR-10 Batch 1:  Loss:0.726117730140686\tAccuracy:0.5703998804092407\n",
      "Epoch 26, CIFAR-10 Batch 1:  Loss:0.7272286415100098\tAccuracy:0.5773999094963074\n",
      "Epoch 27, CIFAR-10 Batch 1:  Loss:0.7205451726913452\tAccuracy:0.5809998512268066\n",
      "Epoch 28, CIFAR-10 Batch 1:  Loss:0.6749318242073059\tAccuracy:0.5801998972892761\n",
      "Epoch 29, CIFAR-10 Batch 1:  Loss:0.6736252307891846\tAccuracy:0.5763998627662659\n",
      "Epoch 30, CIFAR-10 Batch 1:  Loss:0.6771931648254395\tAccuracy:0.5767999291419983\n",
      "Epoch 31, CIFAR-10 Batch 1:  Loss:0.6322990655899048\tAccuracy:0.590799868106842\n",
      "Epoch 32, CIFAR-10 Batch 1:  Loss:0.6067566871643066\tAccuracy:0.5881999731063843\n",
      "Epoch 33, CIFAR-10 Batch 1:  Loss:0.5895401239395142\tAccuracy:0.590399980545044\n",
      "Epoch 34, CIFAR-10 Batch 1:  Loss:0.5944844484329224\tAccuracy:0.5957999229431152\n",
      "Epoch 35, CIFAR-10 Batch 1:  Loss:0.6100200414657593\tAccuracy:0.5935999155044556\n"
     ]
    }
   ],
   "source": [
    "\"\"\"\n",
    "DON'T MODIFY ANYTHING IN THIS CELL\n",
    "\"\"\"\n",
    "print('Checking the Training on a Single Batch...')\n",
    "with tf.Session() as sess:\n",
    "    # Initializing the variables\n",
    "    sess.run(tf.global_variables_initializer())\n",
    "    \n",
    "    # Training cycle\n",
    "    for epoch in range(epochs):\n",
    "        batch_i = 1\n",
    "        for batch_features, batch_labels in helper.load_preprocess_training_batch(batch_i, batch_size):\n",
    "            train_neural_network(sess, optimizer, keep_probability, batch_features, batch_labels)\n",
    "        print('Epoch {:>2}, CIFAR-10 Batch {}:  '.format(epoch + 1, batch_i), end='')\n",
    "        print_stats(sess, batch_features, batch_labels, cost, accuracy)"
   ]
  },
  {
   "cell_type": "markdown",
   "metadata": {
    "deletable": true,
    "editable": true
   },
   "source": [
    "### Fully Train the Model\n",
    "Now that you got a good accuracy with a single CIFAR-10 batch, try it with all five batches."
   ]
  },
  {
   "cell_type": "code",
   "execution_count": 22,
   "metadata": {
    "collapsed": false,
    "deletable": true,
    "editable": true
   },
   "outputs": [
    {
     "name": "stdout",
     "output_type": "stream",
     "text": [
      "Training...\n",
      "Epoch  1, CIFAR-10 Batch 1:  Loss:2.2916345596313477\tAccuracy:0.16039998829364777\n",
      "Epoch  1, CIFAR-10 Batch 2:  Loss:2.2391910552978516\tAccuracy:0.2457999885082245\n",
      "Epoch  1, CIFAR-10 Batch 3:  Loss:1.7971346378326416\tAccuracy:0.28839999437332153\n",
      "Epoch  1, CIFAR-10 Batch 4:  Loss:1.8012282848358154\tAccuracy:0.32839998602867126\n",
      "Epoch  1, CIFAR-10 Batch 5:  Loss:1.6424413919448853\tAccuracy:0.3603999614715576\n",
      "Epoch  2, CIFAR-10 Batch 1:  Loss:1.8778820037841797\tAccuracy:0.38099998235702515\n",
      "Epoch  2, CIFAR-10 Batch 2:  Loss:1.8510161638259888\tAccuracy:0.40059995651245117\n",
      "Epoch  2, CIFAR-10 Batch 3:  Loss:1.4379231929779053\tAccuracy:0.4138000011444092\n",
      "Epoch  2, CIFAR-10 Batch 4:  Loss:1.5427684783935547\tAccuracy:0.4349999725818634\n",
      "Epoch  2, CIFAR-10 Batch 5:  Loss:1.4057117700576782\tAccuracy:0.43959999084472656\n",
      "Epoch  3, CIFAR-10 Batch 1:  Loss:1.5209181308746338\tAccuracy:0.4635999798774719\n",
      "Epoch  3, CIFAR-10 Batch 2:  Loss:1.6626412868499756\tAccuracy:0.4723999500274658\n",
      "Epoch  3, CIFAR-10 Batch 3:  Loss:1.253605604171753\tAccuracy:0.47359994053840637\n",
      "Epoch  3, CIFAR-10 Batch 4:  Loss:1.41045081615448\tAccuracy:0.488599956035614\n",
      "Epoch  3, CIFAR-10 Batch 5:  Loss:1.3581897020339966\tAccuracy:0.486799955368042\n",
      "Epoch  4, CIFAR-10 Batch 1:  Loss:1.3599236011505127\tAccuracy:0.5005999803543091\n",
      "Epoch  4, CIFAR-10 Batch 2:  Loss:1.5468358993530273\tAccuracy:0.5049999356269836\n",
      "Epoch  4, CIFAR-10 Batch 3:  Loss:1.151552438735962\tAccuracy:0.49699991941452026\n",
      "Epoch  4, CIFAR-10 Batch 4:  Loss:1.3284003734588623\tAccuracy:0.5195999145507812\n",
      "Epoch  4, CIFAR-10 Batch 5:  Loss:1.2902824878692627\tAccuracy:0.5157999992370605\n",
      "Epoch  5, CIFAR-10 Batch 1:  Loss:1.2380154132843018\tAccuracy:0.5255999565124512\n",
      "Epoch  5, CIFAR-10 Batch 2:  Loss:1.4272801876068115\tAccuracy:0.5275999307632446\n",
      "Epoch  5, CIFAR-10 Batch 3:  Loss:1.0577031373977661\tAccuracy:0.5273999571800232\n",
      "Epoch  5, CIFAR-10 Batch 4:  Loss:1.2535582780838013\tAccuracy:0.5365999937057495\n",
      "Epoch  5, CIFAR-10 Batch 5:  Loss:1.2733125686645508\tAccuracy:0.5383999347686768\n",
      "Epoch  6, CIFAR-10 Batch 1:  Loss:1.1923799514770508\tAccuracy:0.5433999300003052\n",
      "Epoch  6, CIFAR-10 Batch 2:  Loss:1.318472981452942\tAccuracy:0.5539999604225159\n",
      "Epoch  6, CIFAR-10 Batch 3:  Loss:0.9651331901550293\tAccuracy:0.5455999374389648\n",
      "Epoch  6, CIFAR-10 Batch 4:  Loss:1.2140347957611084\tAccuracy:0.554599940776825\n",
      "Epoch  6, CIFAR-10 Batch 5:  Loss:1.206315517425537\tAccuracy:0.5567998886108398\n",
      "Epoch  7, CIFAR-10 Batch 1:  Loss:1.152112603187561\tAccuracy:0.5643999576568604\n",
      "Epoch  7, CIFAR-10 Batch 2:  Loss:1.1727306842803955\tAccuracy:0.5719999074935913\n",
      "Epoch  7, CIFAR-10 Batch 3:  Loss:0.9447814226150513\tAccuracy:0.5737999081611633\n",
      "Epoch  7, CIFAR-10 Batch 4:  Loss:1.1944537162780762\tAccuracy:0.5819998383522034\n",
      "Epoch  7, CIFAR-10 Batch 5:  Loss:1.1474270820617676\tAccuracy:0.5757999420166016\n",
      "Epoch  8, CIFAR-10 Batch 1:  Loss:1.0671863555908203\tAccuracy:0.5843998789787292\n",
      "Epoch  8, CIFAR-10 Batch 2:  Loss:1.1114745140075684\tAccuracy:0.5921999216079712\n",
      "Epoch  8, CIFAR-10 Batch 3:  Loss:0.8671525120735168\tAccuracy:0.593999981880188\n",
      "Epoch  8, CIFAR-10 Batch 4:  Loss:1.1346023082733154\tAccuracy:0.5913999080657959\n",
      "Epoch  8, CIFAR-10 Batch 5:  Loss:1.0553100109100342\tAccuracy:0.5897998809814453\n",
      "Epoch  9, CIFAR-10 Batch 1:  Loss:1.021317958831787\tAccuracy:0.5983999371528625\n",
      "Epoch  9, CIFAR-10 Batch 2:  Loss:1.0062963962554932\tAccuracy:0.6019998788833618\n",
      "Epoch  9, CIFAR-10 Batch 3:  Loss:0.825005292892456\tAccuracy:0.6045999526977539\n",
      "Epoch  9, CIFAR-10 Batch 4:  Loss:1.0816831588745117\tAccuracy:0.6095998883247375\n",
      "Epoch  9, CIFAR-10 Batch 5:  Loss:1.0399377346038818\tAccuracy:0.5995999574661255\n",
      "Epoch 10, CIFAR-10 Batch 1:  Loss:0.971508264541626\tAccuracy:0.614599883556366\n",
      "Epoch 10, CIFAR-10 Batch 2:  Loss:0.9527924656867981\tAccuracy:0.6141999363899231\n",
      "Epoch 10, CIFAR-10 Batch 3:  Loss:0.7905905246734619\tAccuracy:0.6107999086380005\n",
      "Epoch 10, CIFAR-10 Batch 4:  Loss:1.0364549160003662\tAccuracy:0.6171998977661133\n",
      "Epoch 10, CIFAR-10 Batch 5:  Loss:0.963584303855896\tAccuracy:0.6113998889923096\n",
      "Epoch 11, CIFAR-10 Batch 1:  Loss:0.9689129590988159\tAccuracy:0.6171998977661133\n",
      "Epoch 11, CIFAR-10 Batch 2:  Loss:0.8748758435249329\tAccuracy:0.6213999390602112\n",
      "Epoch 11, CIFAR-10 Batch 3:  Loss:0.7762731909751892\tAccuracy:0.6171999573707581\n",
      "Epoch 11, CIFAR-10 Batch 4:  Loss:1.0235681533813477\tAccuracy:0.6247999668121338\n",
      "Epoch 11, CIFAR-10 Batch 5:  Loss:0.9414334297180176\tAccuracy:0.6167998313903809\n",
      "Epoch 12, CIFAR-10 Batch 1:  Loss:0.9415817856788635\tAccuracy:0.6275999546051025\n",
      "Epoch 12, CIFAR-10 Batch 2:  Loss:0.8565962314605713\tAccuracy:0.6257998943328857\n",
      "Epoch 12, CIFAR-10 Batch 3:  Loss:0.7417423725128174\tAccuracy:0.6167998909950256\n",
      "Epoch 12, CIFAR-10 Batch 4:  Loss:0.9672114849090576\tAccuracy:0.6297999024391174\n",
      "Epoch 12, CIFAR-10 Batch 5:  Loss:0.8804471492767334\tAccuracy:0.621799886226654\n",
      "Epoch 13, CIFAR-10 Batch 1:  Loss:0.929770827293396\tAccuracy:0.631199836730957\n",
      "Epoch 13, CIFAR-10 Batch 2:  Loss:0.8103544116020203\tAccuracy:0.6349998712539673\n",
      "Epoch 13, CIFAR-10 Batch 3:  Loss:0.6979401111602783\tAccuracy:0.63239985704422\n",
      "Epoch 13, CIFAR-10 Batch 4:  Loss:0.9376271963119507\tAccuracy:0.6345999240875244\n",
      "Epoch 13, CIFAR-10 Batch 5:  Loss:0.8678598403930664\tAccuracy:0.6269998550415039\n",
      "Epoch 14, CIFAR-10 Batch 1:  Loss:0.9219610691070557\tAccuracy:0.6383999586105347\n",
      "Epoch 14, CIFAR-10 Batch 2:  Loss:0.7630676031112671\tAccuracy:0.634199857711792\n",
      "Epoch 14, CIFAR-10 Batch 3:  Loss:0.6683015823364258\tAccuracy:0.6339998841285706\n",
      "Epoch 14, CIFAR-10 Batch 4:  Loss:0.879609227180481\tAccuracy:0.6329998970031738\n",
      "Epoch 14, CIFAR-10 Batch 5:  Loss:0.8650050163269043\tAccuracy:0.6333999037742615\n",
      "Epoch 15, CIFAR-10 Batch 1:  Loss:0.8734194040298462\tAccuracy:0.6433998942375183\n",
      "Epoch 15, CIFAR-10 Batch 2:  Loss:0.7190202474594116\tAccuracy:0.6409999132156372\n",
      "Epoch 15, CIFAR-10 Batch 3:  Loss:0.6599410772323608\tAccuracy:0.6415998935699463\n",
      "Epoch 15, CIFAR-10 Batch 4:  Loss:0.8860851526260376\tAccuracy:0.6409999132156372\n",
      "Epoch 15, CIFAR-10 Batch 5:  Loss:0.8406289219856262\tAccuracy:0.6349998712539673\n",
      "Epoch 16, CIFAR-10 Batch 1:  Loss:0.876937747001648\tAccuracy:0.6453999280929565\n",
      "Epoch 16, CIFAR-10 Batch 2:  Loss:0.7124308347702026\tAccuracy:0.6417999267578125\n",
      "Epoch 16, CIFAR-10 Batch 3:  Loss:0.6352726221084595\tAccuracy:0.6411998867988586\n",
      "Epoch 16, CIFAR-10 Batch 4:  Loss:0.8598518371582031\tAccuracy:0.6451998949050903\n",
      "Epoch 16, CIFAR-10 Batch 5:  Loss:0.8174508810043335\tAccuracy:0.638999879360199\n",
      "Epoch 17, CIFAR-10 Batch 1:  Loss:0.8651314973831177\tAccuracy:0.6451998949050903\n",
      "Epoch 17, CIFAR-10 Batch 2:  Loss:0.7079775333404541\tAccuracy:0.6519998908042908\n",
      "Epoch 17, CIFAR-10 Batch 3:  Loss:0.6223500967025757\tAccuracy:0.6499999165534973\n",
      "Epoch 17, CIFAR-10 Batch 4:  Loss:0.8665771484375\tAccuracy:0.6507998704910278\n",
      "Epoch 17, CIFAR-10 Batch 5:  Loss:0.8028720617294312\tAccuracy:0.6485999226570129\n",
      "Epoch 18, CIFAR-10 Batch 1:  Loss:0.8268370032310486\tAccuracy:0.6595998406410217\n",
      "Epoch 18, CIFAR-10 Batch 2:  Loss:0.6793782711029053\tAccuracy:0.6517999172210693\n",
      "Epoch 18, CIFAR-10 Batch 3:  Loss:0.6088926196098328\tAccuracy:0.643799901008606\n",
      "Epoch 18, CIFAR-10 Batch 4:  Loss:0.8284838199615479\tAccuracy:0.6513999104499817\n",
      "Epoch 18, CIFAR-10 Batch 5:  Loss:0.8045074939727783\tAccuracy:0.6465998888015747\n",
      "Epoch 19, CIFAR-10 Batch 1:  Loss:0.800614595413208\tAccuracy:0.660399854183197\n",
      "Epoch 19, CIFAR-10 Batch 2:  Loss:0.6889063119888306\tAccuracy:0.6555998921394348\n",
      "Epoch 19, CIFAR-10 Batch 3:  Loss:0.5838477611541748\tAccuracy:0.6593999266624451\n",
      "Epoch 19, CIFAR-10 Batch 4:  Loss:0.7854245901107788\tAccuracy:0.652199923992157\n",
      "Epoch 19, CIFAR-10 Batch 5:  Loss:0.7715264558792114\tAccuracy:0.6531998515129089\n",
      "Epoch 20, CIFAR-10 Batch 1:  Loss:0.823606014251709\tAccuracy:0.6641998887062073\n",
      "Epoch 20, CIFAR-10 Batch 2:  Loss:0.6495522856712341\tAccuracy:0.6623998880386353\n",
      "Epoch 20, CIFAR-10 Batch 3:  Loss:0.5961997509002686\tAccuracy:0.6589999198913574\n",
      "Epoch 20, CIFAR-10 Batch 4:  Loss:0.7750323414802551\tAccuracy:0.6561998724937439\n",
      "Epoch 20, CIFAR-10 Batch 5:  Loss:0.7613657712936401\tAccuracy:0.6573998928070068\n",
      "Epoch 21, CIFAR-10 Batch 1:  Loss:0.7962847948074341\tAccuracy:0.6569998860359192\n",
      "Epoch 21, CIFAR-10 Batch 2:  Loss:0.6391443014144897\tAccuracy:0.6633999347686768\n",
      "Epoch 21, CIFAR-10 Batch 3:  Loss:0.5683069229125977\tAccuracy:0.6655998826026917\n",
      "Epoch 21, CIFAR-10 Batch 4:  Loss:0.7616806626319885\tAccuracy:0.6579998731613159\n",
      "Epoch 21, CIFAR-10 Batch 5:  Loss:0.7721511125564575\tAccuracy:0.6557998657226562\n",
      "Epoch 22, CIFAR-10 Batch 1:  Loss:0.8082408308982849\tAccuracy:0.6699998378753662\n",
      "Epoch 22, CIFAR-10 Batch 2:  Loss:0.6473535299301147\tAccuracy:0.6647998690605164\n",
      "Epoch 22, CIFAR-10 Batch 3:  Loss:0.5364933013916016\tAccuracy:0.6631999015808105\n",
      "Epoch 22, CIFAR-10 Batch 4:  Loss:0.7336767911911011\tAccuracy:0.6647998690605164\n",
      "Epoch 22, CIFAR-10 Batch 5:  Loss:0.7367362380027771\tAccuracy:0.6637998819351196\n",
      "Epoch 23, CIFAR-10 Batch 1:  Loss:0.7998170256614685\tAccuracy:0.6643998622894287\n",
      "Epoch 23, CIFAR-10 Batch 2:  Loss:0.6501960754394531\tAccuracy:0.6681999564170837\n",
      "Epoch 23, CIFAR-10 Batch 3:  Loss:0.5386778712272644\tAccuracy:0.6659998893737793\n",
      "Epoch 23, CIFAR-10 Batch 4:  Loss:0.7373526096343994\tAccuracy:0.6645998954772949\n",
      "Epoch 23, CIFAR-10 Batch 5:  Loss:0.7376441955566406\tAccuracy:0.6601998209953308\n",
      "Epoch 24, CIFAR-10 Batch 1:  Loss:0.8322029709815979\tAccuracy:0.6689998507499695\n",
      "Epoch 24, CIFAR-10 Batch 2:  Loss:0.6302140355110168\tAccuracy:0.6663999557495117\n",
      "Epoch 24, CIFAR-10 Batch 3:  Loss:0.5655480623245239\tAccuracy:0.662199854850769\n",
      "Epoch 24, CIFAR-10 Batch 4:  Loss:0.7433860301971436\tAccuracy:0.6693998575210571\n",
      "Epoch 24, CIFAR-10 Batch 5:  Loss:0.6975952386856079\tAccuracy:0.6663998961448669\n",
      "Epoch 25, CIFAR-10 Batch 1:  Loss:0.8088492155075073\tAccuracy:0.6707998514175415\n",
      "Epoch 25, CIFAR-10 Batch 2:  Loss:0.6202024221420288\tAccuracy:0.6695998311042786\n",
      "Epoch 25, CIFAR-10 Batch 3:  Loss:0.5139626264572144\tAccuracy:0.671799898147583\n",
      "Epoch 25, CIFAR-10 Batch 4:  Loss:0.7055830359458923\tAccuracy:0.6629998683929443\n",
      "Epoch 25, CIFAR-10 Batch 5:  Loss:0.6800351142883301\tAccuracy:0.6689997911453247\n",
      "Epoch 26, CIFAR-10 Batch 1:  Loss:0.7514987587928772\tAccuracy:0.6715998649597168\n",
      "Epoch 26, CIFAR-10 Batch 2:  Loss:0.6400425434112549\tAccuracy:0.6753998398780823\n",
      "Epoch 26, CIFAR-10 Batch 3:  Loss:0.5012617111206055\tAccuracy:0.6725998520851135\n",
      "Epoch 26, CIFAR-10 Batch 4:  Loss:0.6764848828315735\tAccuracy:0.6743999123573303\n",
      "Epoch 26, CIFAR-10 Batch 5:  Loss:0.67314612865448\tAccuracy:0.6719998717308044\n",
      "Epoch 27, CIFAR-10 Batch 1:  Loss:0.7658085823059082\tAccuracy:0.6757998466491699\n",
      "Epoch 27, CIFAR-10 Batch 2:  Loss:0.5854586362838745\tAccuracy:0.6707999110221863\n",
      "Epoch 27, CIFAR-10 Batch 3:  Loss:0.5039234161376953\tAccuracy:0.6769998669624329\n",
      "Epoch 27, CIFAR-10 Batch 4:  Loss:0.7042559385299683\tAccuracy:0.6745998859405518\n",
      "Epoch 27, CIFAR-10 Batch 5:  Loss:0.6709237694740295\tAccuracy:0.6673998832702637\n",
      "Epoch 28, CIFAR-10 Batch 1:  Loss:0.7073257565498352\tAccuracy:0.681999921798706\n",
      "Epoch 28, CIFAR-10 Batch 2:  Loss:0.5951085090637207\tAccuracy:0.6711997985839844\n",
      "Epoch 28, CIFAR-10 Batch 3:  Loss:0.5056968927383423\tAccuracy:0.6747998595237732\n",
      "Epoch 28, CIFAR-10 Batch 4:  Loss:0.6345090866088867\tAccuracy:0.6787999272346497\n",
      "Epoch 28, CIFAR-10 Batch 5:  Loss:0.6686125993728638\tAccuracy:0.6761999130249023\n",
      "Epoch 29, CIFAR-10 Batch 1:  Loss:0.7080963253974915\tAccuracy:0.6843999028205872\n",
      "Epoch 29, CIFAR-10 Batch 2:  Loss:0.5577839612960815\tAccuracy:0.6761998534202576\n",
      "Epoch 29, CIFAR-10 Batch 3:  Loss:0.48345428705215454\tAccuracy:0.6727998852729797\n",
      "Epoch 29, CIFAR-10 Batch 4:  Loss:0.6616570949554443\tAccuracy:0.6757999062538147\n",
      "Epoch 29, CIFAR-10 Batch 5:  Loss:0.6558471918106079\tAccuracy:0.6755998730659485\n",
      "Epoch 30, CIFAR-10 Batch 1:  Loss:0.7100870609283447\tAccuracy:0.6785998940467834\n",
      "Epoch 30, CIFAR-10 Batch 2:  Loss:0.6004455089569092\tAccuracy:0.6797998547554016\n",
      "Epoch 30, CIFAR-10 Batch 3:  Loss:0.5038888454437256\tAccuracy:0.6767998933792114\n",
      "Epoch 30, CIFAR-10 Batch 4:  Loss:0.6510162949562073\tAccuracy:0.6757998466491699\n",
      "Epoch 30, CIFAR-10 Batch 5:  Loss:0.644406795501709\tAccuracy:0.6797997951507568\n",
      "Epoch 31, CIFAR-10 Batch 1:  Loss:0.709844708442688\tAccuracy:0.6803998947143555\n",
      "Epoch 31, CIFAR-10 Batch 2:  Loss:0.564285397529602\tAccuracy:0.6771998405456543\n",
      "Epoch 31, CIFAR-10 Batch 3:  Loss:0.4739537835121155\tAccuracy:0.6799998879432678\n",
      "Epoch 31, CIFAR-10 Batch 4:  Loss:0.6161365509033203\tAccuracy:0.6815998554229736\n",
      "Epoch 31, CIFAR-10 Batch 5:  Loss:0.635299801826477\tAccuracy:0.6813998818397522\n",
      "Epoch 32, CIFAR-10 Batch 1:  Loss:0.6713410019874573\tAccuracy:0.686599850654602\n",
      "Epoch 32, CIFAR-10 Batch 2:  Loss:0.5326354503631592\tAccuracy:0.6807998418807983\n",
      "Epoch 32, CIFAR-10 Batch 3:  Loss:0.4828610122203827\tAccuracy:0.6815998554229736\n",
      "Epoch 32, CIFAR-10 Batch 4:  Loss:0.6055545806884766\tAccuracy:0.6771998405456543\n",
      "Epoch 32, CIFAR-10 Batch 5:  Loss:0.6337313652038574\tAccuracy:0.6809998750686646\n",
      "Epoch 33, CIFAR-10 Batch 1:  Loss:0.662100076675415\tAccuracy:0.6905998587608337\n",
      "Epoch 33, CIFAR-10 Batch 2:  Loss:0.5263494253158569\tAccuracy:0.6853998899459839\n",
      "Epoch 33, CIFAR-10 Batch 3:  Loss:0.4738931655883789\tAccuracy:0.6853998303413391\n",
      "Epoch 33, CIFAR-10 Batch 4:  Loss:0.6029876470565796\tAccuracy:0.681399941444397\n",
      "Epoch 33, CIFAR-10 Batch 5:  Loss:0.6375692486763\tAccuracy:0.6837999224662781\n",
      "Epoch 34, CIFAR-10 Batch 1:  Loss:0.6812902092933655\tAccuracy:0.6901998519897461\n",
      "Epoch 34, CIFAR-10 Batch 2:  Loss:0.5365544557571411\tAccuracy:0.6849998831748962\n",
      "Epoch 34, CIFAR-10 Batch 3:  Loss:0.4574991464614868\tAccuracy:0.6811999082565308\n",
      "Epoch 34, CIFAR-10 Batch 4:  Loss:0.6082593202590942\tAccuracy:0.6825998425483704\n",
      "Epoch 34, CIFAR-10 Batch 5:  Loss:0.620503306388855\tAccuracy:0.687799870967865\n",
      "Epoch 35, CIFAR-10 Batch 1:  Loss:0.6412050724029541\tAccuracy:0.6941999197006226\n",
      "Epoch 35, CIFAR-10 Batch 2:  Loss:0.5330292582511902\tAccuracy:0.6887998580932617\n",
      "Epoch 35, CIFAR-10 Batch 3:  Loss:0.4604285657405853\tAccuracy:0.6855998635292053\n",
      "Epoch 35, CIFAR-10 Batch 4:  Loss:0.5623233318328857\tAccuracy:0.687799870967865\n",
      "Epoch 35, CIFAR-10 Batch 5:  Loss:0.5836862921714783\tAccuracy:0.6883999109268188\n"
     ]
    }
   ],
   "source": [
    "\"\"\"\n",
    "DON'T MODIFY ANYTHING IN THIS CELL\n",
    "\"\"\"\n",
    "save_model_path = './image_classification'\n",
    "\n",
    "print('Training...')\n",
    "with tf.Session() as sess:\n",
    "    # Initializing the variables\n",
    "    sess.run(tf.global_variables_initializer())\n",
    "    \n",
    "    # Training cycle\n",
    "    for epoch in range(epochs):\n",
    "        # Loop over all batches\n",
    "        n_batches = 5\n",
    "        for batch_i in range(1, n_batches + 1):\n",
    "            for batch_features, batch_labels in helper.load_preprocess_training_batch(batch_i, batch_size):\n",
    "                train_neural_network(sess, optimizer, keep_probability, batch_features, batch_labels)\n",
    "            print('Epoch {:>2}, CIFAR-10 Batch {}:  '.format(epoch + 1, batch_i), end='')\n",
    "            print_stats(sess, batch_features, batch_labels, cost, accuracy)\n",
    "            \n",
    "    # Save Model\n",
    "    saver = tf.train.Saver()\n",
    "    save_path = saver.save(sess, save_model_path)"
   ]
  },
  {
   "cell_type": "markdown",
   "metadata": {
    "deletable": true,
    "editable": true
   },
   "source": [
    "# Checkpoint\n",
    "The model has been saved to disk.\n",
    "## Test Model\n",
    "Test your model against the test dataset.  This will be your final accuracy. You should have an accuracy greater than 50%. If you don't, keep tweaking the model architecture and parameters."
   ]
  },
  {
   "cell_type": "code",
   "execution_count": 23,
   "metadata": {
    "collapsed": false,
    "deletable": true,
    "editable": true
   },
   "outputs": [
    {
     "name": "stdout",
     "output_type": "stream",
     "text": [
      "Testing Accuracy: 0.6849609375\n",
      "\n"
     ]
    },
    {
     "data": {
      "image/png": "[encoded data removed]",
      "text/plain": [
       "<matplotlib.figure.Figure at 0x7f2141d7f9b0>"
      ]
     },
     "metadata": {
      "image/png": {
       "height": 319,
       "width": 355
      }
     },
     "output_type": "display_data"
    }
   ],
   "source": [
    "\"\"\"\n",
    "DON'T MODIFY ANYTHING IN THIS CELL\n",
    "\"\"\"\n",
    "%matplotlib inline\n",
    "%config InlineBackend.figure_format = 'retina'\n",
    "\n",
    "import tensorflow as tf\n",
    "import pickle\n",
    "import helper\n",
    "import random\n",
    "\n",
    "# Set batch size if not already set\n",
    "try:\n",
    "    if batch_size:\n",
    "        pass\n",
    "except NameError:\n",
    "    batch_size = 64\n",
    "\n",
    "save_model_path = './image_classification'\n",
    "n_samples = 4\n",
    "top_n_predictions = 3\n",
    "\n",
    "def test_model():\n",
    "    \"\"\"\n",
    "    Test the saved model against the test dataset\n",
    "    \"\"\"\n",
    "\n",
    "    test_features, test_labels = pickle.load(open('preprocess_training.p', mode='rb'))\n",
    "    loaded_graph = tf.Graph()\n",
    "\n",
    "    with tf.Session(graph=loaded_graph) as sess:\n",
    "        # Load model\n",
    "        loader = tf.train.import_meta_graph(save_model_path + '.meta')\n",
    "        loader.restore(sess, save_model_path)\n",
    "\n",
    "        # Get Tensors from loaded model\n",
    "        loaded_x = loaded_graph.get_tensor_by_name('x:0')\n",
    "        loaded_y = loaded_graph.get_tensor_by_name('y:0')\n",
    "        loaded_keep_prob = loaded_graph.get_tensor_by_name('keep_prob:0')\n",
    "        loaded_logits = loaded_graph.get_tensor_by_name('logits:0')\n",
    "        loaded_acc = loaded_graph.get_tensor_by_name('accuracy:0')\n",
    "        \n",
    "        # Get accuracy in batches for memory limitations\n",
    "        test_batch_acc_total = 0\n",
    "        test_batch_count = 0\n",
    "        \n",
    "        for train_feature_batch, train_label_batch in helper.batch_features_labels(test_features, test_labels, batch_size):\n",
    "            test_batch_acc_total += sess.run(\n",
    "                loaded_acc,\n",
    "                feed_dict={loaded_x: train_feature_batch, loaded_y: train_label_batch, loaded_keep_prob: 1.0})\n",
    "            test_batch_count += 1\n",
    "\n",
    "        print('Testing Accuracy: {}\\n'.format(test_batch_acc_total/test_batch_count))\n",
    "\n",
    "        # Print Random Samples\n",
    "        random_test_features, random_test_labels = tuple(zip(*random.sample(list(zip(test_features, test_labels)), n_samples)))\n",
    "        random_test_predictions = sess.run(\n",
    "            tf.nn.top_k(tf.nn.softmax(loaded_logits), top_n_predictions),\n",
    "            feed_dict={loaded_x: random_test_features, loaded_y: random_test_labels, loaded_keep_prob: 1.0})\n",
    "        helper.display_image_predictions(random_test_features, random_test_labels, random_test_predictions)\n",
    "\n",
    "\n",
    "test_model()"
   ]
  },
  {
   "cell_type": "markdown",
   "metadata": {
    "deletable": true,
    "editable": true
   },
   "source": [
    "## Why 50-80% Accuracy?\n",
    "You might be wondering why you can't get an accuracy any higher. First things first, 50% isn't bad for a simple CNN.  Pure guessing would get you 10% accuracy. However, you might notice people are getting scores [well above 80%](http://rodrigob.github.io/are_we_there_yet/build/classification_datasets_results.html#43494641522d3130).  That's because we haven't taught you all there is to know about neural networks. We still need to cover a few more techniques.\n",
    "## Submitting This Project\n",
    "When submitting this project, make sure to run all the cells before saving the notebook.  Save the notebook file as \"dlnd_image_classification.ipynb\" and save it as a HTML file under \"File\" -> \"Download as\".  Include the \"helper.py\" and \"problem_unittests.py\" files in your submission."
   ]
  }
 ],
 "metadata": {
  "anaconda-cloud": {},
  "kernelspec": {
   "display_name": "Python 3",
   "language": "python",
   "name": "python3"
  },
  "language_info": {
   "codemirror_mode": {
    "name": "ipython",
    "version": 3
   },
   "file_extension": ".py",
   "mimetype": "text/x-python",
   "name": "python",
   "nbconvert_exporter": "python",
   "pygments_lexer": "ipython3",
   "version": "3.5.3"
  }
 },
 "nbformat": 4,
 "nbformat_minor": 0
}
